{
  "nbformat": 4,
  "nbformat_minor": 0,
  "metadata": {
    "colab": {
      "name": "ENFR.ipynb",
      "version": "0.3.2",
      "provenance": [],
      "include_colab_link": true
    },
    "kernelspec": {
      "name": "python3",
      "display_name": "Python 3"
    }
  },
  "cells": [
    {
      "cell_type": "markdown",
      "metadata": {
        "id": "view-in-github",
        "colab_type": "text"
      },
      "source": [
        "[View in Colaboratory](https://colab.research.google.com/github/ErikPartridge/machine-translation/blob/master/ENFR.ipynb)"
      ]
    },
    {
      "metadata": {
        "id": "2cIKdFB_D4FY",
        "colab_type": "code",
        "colab": {
          "base_uri": "https://localhost:8080/",
          "height": 176
        },
        "outputId": "f1b6c928-8118-4712-bf0b-a7809d5b9259"
      },
      "cell_type": "code",
      "source": [
        "!wget http://www.statmt.org/europarl/v7/fr-en.tgz"
      ],
      "execution_count": 0,
      "outputs": [
        {
          "output_type": "stream",
          "text": [
            "--2018-07-05 14:42:56--  http://www.statmt.org/europarl/v7/fr-en.tgz\n",
            "Resolving www.statmt.org (www.statmt.org)... 129.215.197.184\n",
            "Connecting to www.statmt.org (www.statmt.org)|129.215.197.184|:80... connected.\n",
            "HTTP request sent, awaiting response... 200 OK\n",
            "Length: 202718517 (193M) [application/x-gzip]\n",
            "Saving to: ‘fr-en.tgz.2’\n",
            "\n",
            "fr-en.tgz.2          10%[=>                  ]  20.66M   415KB/s    eta 7m 11s "
          ],
          "name": "stdout"
        },
        {
          "output_type": "stream",
          "text": [
            "fr-en.tgz.2          37%[======>             ]  73.43M   451KB/s    eta 4m 58s "
          ],
          "name": "stdout"
        }
      ]
    },
    {
      "metadata": {
        "id": "YlcdJ72oD6cG",
        "colab_type": "code",
        "colab": {
          "base_uri": "https://localhost:8080/",
          "height": 52
        },
        "outputId": "361b0d7b-9c9b-4770-99d9-2b60c7eaa12f"
      },
      "cell_type": "code",
      "source": [
        "!tar -xvf fr-en.tgz"
      ],
      "execution_count": 2,
      "outputs": [
        {
          "output_type": "stream",
          "text": [
            "europarl-v7.fr-en.en\n",
            "europarl-v7.fr-en.fr\n"
          ],
          "name": "stdout"
        }
      ]
    },
    {
      "metadata": {
        "id": "BfiG2AK-Fo-D",
        "colab_type": "code",
        "colab": {
          "base_uri": "https://localhost:8080/",
          "height": 34
        },
        "outputId": "ade463a8-9cf0-449e-a357-a38aea7552a2"
      },
      "cell_type": "code",
      "source": [
        "!sed -i '/^</ d' europarl-v7.fr-en.en \n",
        "!sed -i'/^</ d' europarl-v7.fr-en.fr\n",
        "!sed -i '/^$/d' europarl-v7.fr-en.fr\n",
        "!sed -i '/^$/d' europarl-v7.fr-en.en"
      ],
      "execution_count": 6,
      "outputs": [
        {
          "output_type": "stream",
          "text": [
            "sed: no input files\r\n"
          ],
          "name": "stdout"
        }
      ]
    },
    {
      "metadata": {
        "id": "6cFnv7jJD8fE",
        "colab_type": "code",
        "colab": {
          "base_uri": "https://localhost:8080/",
          "height": 211
        },
        "outputId": "b10818e5-60c7-4d51-e257-62412df4905a"
      },
      "cell_type": "code",
      "source": [
        "!head europarl-v7.fr-en.en"
      ],
      "execution_count": 7,
      "outputs": [
        {
          "output_type": "stream",
          "text": [
            "Resumption of the session\r\n",
            "I declare resumed the session of the European Parliament adjourned on Friday 17 December 1999, and I would like once again to wish you a happy new year in the hope that you enjoyed a pleasant festive period.\r\n",
            "Although, as you will have seen, the dreaded 'millennium bug' failed to materialise, still the people in a number of countries suffered a series of natural disasters that truly were dreadful.\r\n",
            "You have requested a debate on this subject in the course of the next few days, during this part-session.\r\n",
            "In the meantime, I should like to observe a minute' s silence, as a number of Members have requested, on behalf of all the victims concerned, particularly those of the terrible storms, in the various countries of the European Union.\r\n",
            "Please rise, then, for this minute' s silence.\r\n",
            "(The House rose and observed a minute' s silence)\r\n",
            "Madam President, on a point of order.\r\n",
            "You will be aware from the press and television that there have been a number of bomb explosions and killings in Sri Lanka.\r\n",
            "One of the people assassinated very recently in Sri Lanka was Mr Kumar Ponnambalam, who had visited the European Parliament just a few months ago.\r\n"
          ],
          "name": "stdout"
        }
      ]
    },
    {
      "metadata": {
        "id": "7cU8Rgf8EaF8",
        "colab_type": "code",
        "colab": {
          "base_uri": "https://localhost:8080/",
          "height": 211
        },
        "outputId": "625d0a55-fd7f-437d-90d6-c4df7ffd1bb5"
      },
      "cell_type": "code",
      "source": [
        "!head europarl-v7.fr-en.fr"
      ],
      "execution_count": 8,
      "outputs": [
        {
          "output_type": "stream",
          "text": [
            "Reprise de la session\r\n",
            "Je déclare reprise la session du Parlement européen qui avait été interrompue le vendredi 17 décembre dernier et je vous renouvelle tous mes vux en espérant que vous avez passé de bonnes vacances.\r\n",
            "Comme vous avez pu le constater, le grand \"bogue de l'an 2000\" ne s'est pas produit. En revanche, les citoyens d'un certain nombre de nos pays ont été victimes de catastrophes naturelles qui ont vraiment été terribles.\r\n",
            "Vous avez souhaité un débat à ce sujet dans les prochains jours, au cours de cette période de session.\r\n",
            "En attendant, je souhaiterais, comme un certain nombre de collègues me l'ont demandé, que nous observions une minute de silence pour toutes les victimes, des tempêtes notamment, dans les différents pays de l'Union européenne qui ont été touchés.\r\n",
            "Je vous invite à vous lever pour cette minute de silence.\r\n",
            "(Le Parlement, debout, observe une minute de silence)\r\n",
            "Madame la Présidente, c'est une motion de procédure.\r\n",
            "Vous avez probablement appris par la presse et par la télévision que plusieurs attentats à la bombe et crimes ont été perpétrés au Sri Lanka.\r\n",
            "L'une des personnes qui vient d'être assassinée au Sri Lanka est M. Kumar Ponnambalam, qui avait rendu visite au Parlement européen il y a quelques mois à peine.\r\n"
          ],
          "name": "stdout"
        }
      ]
    },
    {
      "metadata": {
        "id": "NQo70fuWJCac",
        "colab_type": "code",
        "colab": {
          "base_uri": "https://localhost:8080/",
          "height": 52
        },
        "outputId": "7cdfc06a-dedb-4a42-817d-58e112bab0b5"
      },
      "cell_type": "code",
      "source": [
        "from nltk.tokenize import word_tokenize\n",
        "import nltk\n",
        "nltk.download('punkt')\n",
        "\n",
        "\n",
        "with open (\"europarl-v7.fr-en.fr\", \"r\") as frf:\n",
        "  fr = frf.readlines()\n",
        "    \n",
        "with open (\"europarl-v7.fr-en.en\", \"r\") as enf:\n",
        "  en = enf.readlines()"
      ],
      "execution_count": 9,
      "outputs": [
        {
          "output_type": "stream",
          "text": [
            "[nltk_data] Downloading package punkt to /content/nltk_data...\n",
            "[nltk_data]   Unzipping tokenizers/punkt.zip.\n"
          ],
          "name": "stdout"
        }
      ]
    },
    {
      "metadata": {
        "id": "CktF72jMJurd",
        "colab_type": "code",
        "colab": {}
      },
      "cell_type": "code",
      "source": [
        "from keras.preprocessing.text import one_hot\n",
        "from keras.preprocessing.text import text_to_word_sequence\n",
        "\n",
        "frt = []\n",
        "for line in fr:\n",
        "  frt.append(one_hot(line, 12000))\n",
        "\n",
        "ent = []\n",
        "for line in en:\n",
        "  ent.append(one_hot(line, 12000))"
      ],
      "execution_count": 0,
      "outputs": []
    },
    {
      "metadata": {
        "id": "pte1sF2c1RiH",
        "colab_type": "code",
        "colab": {}
      },
      "cell_type": "code",
      "source": [
        "import numpy as np\n",
        "\n",
        "frv = []\n",
        "for line in frt:\n",
        "  tmp = []\n",
        "  for num in line:\n",
        "    l = np.zeros(12000)\n",
        "    l[num] = 1\n",
        "    tmp.append(l)\n",
        "  frv.append(np.array(tmp))\n",
        "frv = np.array(frv)\n",
        "\n",
        "envr = []\n",
        "for line in ent:\n",
        "  tmp = []\n",
        "  for num in line:\n",
        "    l = np.zeros(12000)\n",
        "    l[num] = 1\n",
        "    tmp.append(l)\n",
        "  envr.append(np.array(tmp))\n",
        "envr = np.array(envr)"
      ],
      "execution_count": 0,
      "outputs": []
    },
    {
      "metadata": {
        "id": "uXTetnZuuNz6",
        "colab_type": "code",
        "colab": {
          "base_uri": "https://localhost:8080/",
          "height": 54
        },
        "outputId": "52c6f860-39c9-4229-fb25-cc5f428bd0bf"
      },
      "cell_type": "code",
      "source": [
        ""
      ],
      "execution_count": 20,
      "outputs": [
        {
          "output_type": "stream",
          "text": [
            "[4972, 7588, 5340, 4254, 2072, 11485, 5336, 5833, 8929, 4598, 7608, 3589, 9305, 4003, 5343, 10759, 5681, 9903, 4972, 7397, 5462, 8537, 11187, 5014, 1326, 3875, 601, 7397, 11718, 9394, 3092, 8163, 8209]\n"
          ],
          "name": "stdout"
        }
      ]
    },
    {
      "metadata": {
        "id": "cxxoUpt5uV4F",
        "colab_type": "code",
        "colab": {
          "base_uri": "https://localhost:8080/",
          "height": 347
        },
        "outputId": "eb6cad1d-c532-40af-df18-200b48df489b"
      },
      "cell_type": "code",
      "source": [
        ""
      ],
      "execution_count": 12,
      "outputs": [
        {
          "output_type": "execute_result",
          "data": {
            "text/plain": [
              "['You',\n",
              " 'have',\n",
              " 'requested',\n",
              " 'a',\n",
              " 'debate',\n",
              " 'on',\n",
              " 'this',\n",
              " 'subject',\n",
              " 'in',\n",
              " 'the',\n",
              " 'course',\n",
              " 'of',\n",
              " 'the',\n",
              " 'next',\n",
              " 'few',\n",
              " 'days',\n",
              " 'during',\n",
              " 'this',\n",
              " 'part-session']"
            ]
          },
          "metadata": {
            "tags": []
          },
          "execution_count": 12
        }
      ]
    }
  ]
}