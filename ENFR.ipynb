{
  "nbformat": 4,
  "nbformat_minor": 0,
  "metadata": {
    "colab": {
      "name": "ENFR.ipynb",
      "version": "0.3.2",
      "provenance": [],
      "include_colab_link": true
    },
    "kernelspec": {
      "name": "python3",
      "display_name": "Python 3"
    }
  },
  "cells": [
    {
      "cell_type": "markdown",
      "metadata": {
        "id": "view-in-github",
        "colab_type": "text"
      },
      "source": [
        "[View in Colaboratory](https://colab.research.google.com/github/ErikPartridge/machine-translation/blob/master/ENFR.ipynb)"
      ]
    },
    {
      "metadata": {
        "id": "2cIKdFB_D4FY",
        "colab_type": "code",
        "colab": {
          "base_uri": "https://localhost:8080/",
          "height": 228
        },
        "outputId": "49e76652-fcab-4542-f27e-2498890cad2b"
      },
      "cell_type": "code",
      "source": [
        "!wget http://www.statmt.org/europarl/v7/fr-en.tgz"
      ],
      "execution_count": 3,
      "outputs": [
        {
          "output_type": "stream",
          "text": [
            "--2018-07-05 14:54:36--  http://www.statmt.org/europarl/v7/fr-en.tgz\n",
            "Resolving www.statmt.org (www.statmt.org)... 129.215.197.184\n",
            "Connecting to www.statmt.org (www.statmt.org)|129.215.197.184|:80... connected.\n",
            "HTTP request sent, awaiting response... 200 OK\n",
            "Length: 202718517 (193M) [application/x-gzip]\n",
            "Saving to: ‘fr-en.tgz.3’\n",
            "\n",
            "fr-en.tgz.3          11%[=>                  ]  21.60M   451KB/s    eta 6m 51s "
          ],
          "name": "stdout"
        },
        {
          "output_type": "stream",
          "text": [
            "fr-en.tgz.3          99%[==================> ] 193.25M   550KB/s    eta 1s     "
          ],
          "name": "stdout"
        },
        {
          "output_type": "stream",
          "text": [
            "\rfr-en.tgz.3         100%[===================>] 193.33M   551KB/s    in 7m 10s  \r\n",
            "\r\n",
            "2018-07-05 15:01:46 (460 KB/s) - ‘fr-en.tgz.3’ saved [202718517/202718517]\r\n",
            "\r\n"
          ],
          "name": "stdout"
        }
      ]
    },
    {
      "metadata": {
        "id": "YlcdJ72oD6cG",
        "colab_type": "code",
        "colab": {
          "base_uri": "https://localhost:8080/",
          "height": 52
        },
        "outputId": "361b0d7b-9c9b-4770-99d9-2b60c7eaa12f"
      },
      "cell_type": "code",
      "source": [
        "!tar -xvf fr-en.tgz"
      ],
      "execution_count": 2,
      "outputs": [
        {
          "output_type": "stream",
          "text": [
            "europarl-v7.fr-en.en\n",
            "europarl-v7.fr-en.fr\n"
          ],
          "name": "stdout"
        }
      ]
    },
    {
      "metadata": {
        "id": "BfiG2AK-Fo-D",
        "colab_type": "code",
        "colab": {
          "base_uri": "https://localhost:8080/",
          "height": 34
        },
        "outputId": "ade463a8-9cf0-449e-a357-a38aea7552a2"
      },
      "cell_type": "code",
      "source": [
        "!sed -i '/^</ d' europarl-v7.fr-en.en \n",
        "!sed -i'/^</ d' europarl-v7.fr-en.fr\n",
        "!sed -i '/^$/d' europarl-v7.fr-en.fr\n",
        "!sed -i '/^$/d' europarl-v7.fr-en.en"
      ],
      "execution_count": 6,
      "outputs": [
        {
          "output_type": "stream",
          "text": [
            "sed: no input files\r\n"
          ],
          "name": "stdout"
        }
      ]
    },
    {
      "metadata": {
        "id": "NQo70fuWJCac",
        "colab_type": "code",
        "colab": {
          "base_uri": "https://localhost:8080/",
          "height": 52
        },
        "outputId": "7cdfc06a-dedb-4a42-817d-58e112bab0b5"
      },
      "cell_type": "code",
      "source": [
        "with open (\"europarl-v7.fr-en.fr\", \"r\") as frf:\n",
        "  fr = frf.readlines()\n",
        "    \n",
        "with open (\"europarl-v7.fr-en.en\", \"r\") as enf:\n",
        "  en = enf.readlines()"
      ],
      "execution_count": 9,
      "outputs": [
        {
          "output_type": "stream",
          "text": [
            "[nltk_data] Downloading package punkt to /content/nltk_data...\n",
            "[nltk_data]   Unzipping tokenizers/punkt.zip.\n"
          ],
          "name": "stdout"
        }
      ]
    },
    {
      "metadata": {
        "id": "CktF72jMJurd",
        "colab_type": "code",
        "colab": {}
      },
      "cell_type": "code",
      "source": [
        "from keras.preprocessing.text import one_hot\n",
        "from keras.preprocessing.text import text_to_word_sequence\n",
        "\n",
        "frt = []\n",
        "for line in fr:\n",
        "  frt.append(one_hot(line, 12000))\n",
        "\n",
        "ent = []\n",
        "for line in en:\n",
        "  ent.append(one_hot(line, 12000))"
      ],
      "execution_count": 0,
      "outputs": []
    },
    {
      "metadata": {
        "id": "pte1sF2c1RiH",
        "colab_type": "code",
        "colab": {
          "base_uri": "https://localhost:8080/",
          "height": 235
        },
        "outputId": "0a10cfaa-ea74-480d-c486-d89d1e584275"
      },
      "cell_type": "code",
      "source": [
        "import numpy as np\n",
        "\n",
        "frv = []\n",
        "for line in frt:\n",
        "  tmp = []\n",
        "  for num in line:\n",
        "    l = np.zeros(12000)\n",
        "    l[num] = 1\n",
        "    tmp.append(l)\n",
        "  frv.append(np.array(tmp))\n",
        "frv = np.array(frv)\n",
        "\n",
        "envr = []\n",
        "for line in ent:\n",
        "  tmp = []\n",
        "  for num in line:\n",
        "    l = np.zeros(12000)\n",
        "    l[num] = 1\n",
        "    tmp.append(l)\n",
        "  envr.append(np.array(tmp))\n",
        "envr = np.array(envr)"
      ],
      "execution_count": 5,
      "outputs": [
        {
          "output_type": "error",
          "ename": "NameError",
          "evalue": "ignored",
          "traceback": [
            "\u001b[0;31m---------------------------------------------------------------------------\u001b[0m",
            "\u001b[0;31mNameError\u001b[0m                                 Traceback (most recent call last)",
            "\u001b[0;32m<ipython-input-5-e66df5eb63fe>\u001b[0m in \u001b[0;36m<module>\u001b[0;34m()\u001b[0m\n\u001b[1;32m      2\u001b[0m \u001b[0;34m\u001b[0m\u001b[0m\n\u001b[1;32m      3\u001b[0m \u001b[0mfrv\u001b[0m \u001b[0;34m=\u001b[0m \u001b[0;34m[\u001b[0m\u001b[0;34m]\u001b[0m\u001b[0;34m\u001b[0m\u001b[0m\n\u001b[0;32m----> 4\u001b[0;31m \u001b[0;32mfor\u001b[0m \u001b[0mline\u001b[0m \u001b[0;32min\u001b[0m \u001b[0mfrt\u001b[0m\u001b[0;34m:\u001b[0m\u001b[0;34m\u001b[0m\u001b[0m\n\u001b[0m\u001b[1;32m      5\u001b[0m   \u001b[0mtmp\u001b[0m \u001b[0;34m=\u001b[0m \u001b[0;34m[\u001b[0m\u001b[0;34m]\u001b[0m\u001b[0;34m\u001b[0m\u001b[0m\n\u001b[1;32m      6\u001b[0m   \u001b[0;32mfor\u001b[0m \u001b[0mnum\u001b[0m \u001b[0;32min\u001b[0m \u001b[0mline\u001b[0m\u001b[0;34m:\u001b[0m\u001b[0;34m\u001b[0m\u001b[0m\n",
            "\u001b[0;31mNameError\u001b[0m: name 'frt' is not defined"
          ]
        }
      ]
    },
    {
      "metadata": {
        "id": "cxxoUpt5uV4F",
        "colab_type": "code",
        "colab": {
          "base_uri": "https://localhost:8080/",
          "height": 34
        },
        "outputId": "2699a9d0-0034-422a-a622-eb0c8f8f6226"
      },
      "cell_type": "code",
      "source": [
        "from keras.models import Sequential\n",
        "from keras.layers import Dense, Activation, Concatenate, GRU\n",
        "\n",
        "pos = Sequential()\n",
        "pos.add(Embedding(12000, 256, input_length=40))\n",
        "pos.add(GRU(256))\n",
        "pos.add(GRU(128))\n",
        "pos.add(Dense(40))\n",
        "\n",
        "contextualizer = Sequential()\n",
        "contextualizer.add(Embedding(12000, 256, input_length=40))\n",
        "\n",
        "combined = Sequential()\n",
        "combined.add(Concatenate())"
      ],
      "execution_count": 4,
      "outputs": [
        {
          "output_type": "stream",
          "text": [
            "Using TensorFlow backend.\n"
          ],
          "name": "stderr"
        }
      ]
    }
  ]
}