{
  "nbformat": 4,
  "nbformat_minor": 0,
  "metadata": {
    "colab": {
      "name": "ENFR.ipynb",
      "version": "0.3.2",
      "provenance": [],
      "include_colab_link": true
    },
    "kernelspec": {
      "name": "python3",
      "display_name": "Python 3"
    },
    "accelerator": "GPU"
  },
  "cells": [
    {
      "cell_type": "markdown",
      "metadata": {
        "id": "view-in-github",
        "colab_type": "text"
      },
      "source": [
        "[View in Colaboratory](https://colab.research.google.com/github/ErikPartridge/machine-translation/blob/master/ENFR.ipynb)"
      ]
    },
    {
      "metadata": {
        "id": "2cIKdFB_D4FY",
        "colab_type": "code",
        "colab": {
          "base_uri": "https://localhost:8080/",
          "height": 228
        },
        "outputId": "b4285b14-43f5-47af-adb1-c2efae4c7987"
      },
      "cell_type": "code",
      "source": [
        "!wget http://www.statmt.org/europarl/v7/fr-en.tgz"
      ],
      "execution_count": 1,
      "outputs": [
        {
          "output_type": "stream",
          "text": [
            "--2018-07-05 15:24:27--  http://www.statmt.org/europarl/v7/fr-en.tgz\n",
            "Resolving www.statmt.org (www.statmt.org)... 129.215.197.184\n",
            "Connecting to www.statmt.org (www.statmt.org)|129.215.197.184|:80... connected.\n",
            "HTTP request sent, awaiting response... 200 OK\n",
            "Length: 202718517 (193M) [application/x-gzip]\n",
            "Saving to: ‘fr-en.tgz’\n",
            "\n",
            "fr-en.tgz            11%[=>                  ]  21.65M   384KB/s    eta 6m 47s "
          ],
          "name": "stdout"
        },
        {
          "output_type": "stream",
          "text": [
            "fr-en.tgz            99%[==================> ] 193.31M   551KB/s    eta 1s     "
          ],
          "name": "stdout"
        },
        {
          "output_type": "stream",
          "text": [
            "\rfr-en.tgz           100%[===================>] 193.33M   551KB/s    in 7m 1s   \r\n",
            "\r\n",
            "2018-07-05 15:31:28 (470 KB/s) - ‘fr-en.tgz’ saved [202718517/202718517]\r\n",
            "\r\n"
          ],
          "name": "stdout"
        }
      ]
    },
    {
      "metadata": {
        "id": "YlcdJ72oD6cG",
        "colab_type": "code",
        "colab": {
          "base_uri": "https://localhost:8080/",
          "height": 52
        },
        "outputId": "1e648b4a-4cdb-42c1-f23c-2f0e62b8dde5"
      },
      "cell_type": "code",
      "source": [
        "!tar -xvf fr-en.tgz"
      ],
      "execution_count": 2,
      "outputs": [
        {
          "output_type": "stream",
          "text": [
            "europarl-v7.fr-en.en\n",
            "europarl-v7.fr-en.fr\n"
          ],
          "name": "stdout"
        }
      ]
    },
    {
      "metadata": {
        "id": "BfiG2AK-Fo-D",
        "colab_type": "code",
        "colab": {}
      },
      "cell_type": "code",
      "source": [
        "!sed -i '/^</ d' europarl-v7.fr-en.en \n",
        "!sed -i '/^</ d' europarl-v7.fr-en.fr\n",
        "!sed -i '/^$/d' europarl-v7.fr-en.fr\n",
        "!sed -i '/^$/d' europarl-v7.fr-en.en"
      ],
      "execution_count": 0,
      "outputs": []
    },
    {
      "metadata": {
        "id": "NQo70fuWJCac",
        "colab_type": "code",
        "colab": {}
      },
      "cell_type": "code",
      "source": [
        "with open (\"europarl-v7.fr-en.fr\", \"r\") as frf:\n",
        "  fr = frf.readlines()\n",
        "    \n",
        "with open (\"europarl-v7.fr-en.en\", \"r\") as enf:\n",
        "  en = enf.readlines()"
      ],
      "execution_count": 0,
      "outputs": []
    },
    {
      "metadata": {
        "id": "CktF72jMJurd",
        "colab_type": "code",
        "colab": {
          "base_uri": "https://localhost:8080/",
          "height": 34
        },
        "outputId": "d1eabd0e-31cb-4de7-94bf-d5a23fcf0d4d"
      },
      "cell_type": "code",
      "source": [
        "from keras.preprocessing.text import one_hot\n",
        "from keras.preprocessing.text import text_to_word_sequence\n",
        "\n",
        "frt = []\n",
        "for line in fr:\n",
        "  frt.append(one_hot(line, 12000))\n",
        "\n",
        "ent = []\n",
        "for line in en:\n",
        "  ent.append(one_hot(line, 12000))"
      ],
      "execution_count": 0,
      "outputs": [
        {
          "output_type": "stream",
          "text": [
            "Using TensorFlow backend.\n"
          ],
          "name": "stderr"
        }
      ]
    },
    {
      "metadata": {
        "id": "pte1sF2c1RiH",
        "colab_type": "code",
        "colab": {}
      },
      "cell_type": "code",
      "source": [
        "import numpy as np\n",
        "\n",
        "frv = []\n",
        "for line in frt:\n",
        "  tmp = []\n",
        "  for num in line:\n",
        "    l = np.zeros(12000)\n",
        "    l[num] = 1\n",
        "    tmp.append(l)\n",
        "  frv.append(np.array(tmp))\n",
        "frv = np.array(frv)\n",
        "\n",
        "envr = []\n",
        "for line in ent:\n",
        "  tmp = []\n",
        "  for num in line:\n",
        "    l = np.zeros(12000)\n",
        "    l[num] = 1\n",
        "    tmp.append(l)\n",
        "  envr.append(np.array(tmp))\n",
        "envr = np.array(envr)"
      ],
      "execution_count": 0,
      "outputs": []
    },
    {
      "metadata": {
        "id": "cxxoUpt5uV4F",
        "colab_type": "code",
        "colab": {
          "base_uri": "https://localhost:8080/",
          "height": 34
        },
        "outputId": "2699a9d0-0034-422a-a622-eb0c8f8f6226"
      },
      "cell_type": "code",
      "source": [
        "from keras.models import Model\n",
        "from keras.layers import Dense, Activation, Concatenate, GRU\n",
        "\n",
        "inputs = Input(shape=(12000,40))\n",
        "pos = Dense(512)(inputs)\n",
        "pos = GRU(256)(pos)\n",
        "pos = GRU(128)(pos)\n",
        "pos = Dense(40)(pos)\n",
        "\n",
        "ctx = Dense(512)(inputs)\n",
        "ctx = LSTM(512)(inputs)\n",
        "ctx = Dense(128)(inputs)\n",
        "\n",
        "combined = Concatenate()(inputs, pos, ctx)\n",
        "combined = LSTM(256, bidirectional=True)(combined)\n",
        "combined = Dense(50)(combined)\n",
        "\n",
        "\n",
        "model = Model(inputs=inputs, outputs=combined)\n",
        "model.compile(optimizer='rmsprop',\n",
        "              loss='categorical_crossentropy',\n",
        "              metrics=['accuracy'])\n",
        "model.fit(data, labels)"
      ],
      "execution_count": 4,
      "outputs": [
        {
          "output_type": "stream",
          "text": [
            "Using TensorFlow backend.\n"
          ],
          "name": "stderr"
        }
      ]
    }
  ]
}